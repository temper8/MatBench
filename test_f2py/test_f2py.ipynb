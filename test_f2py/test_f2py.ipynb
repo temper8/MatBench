{
 "cells": [
  {
   "cell_type": "code",
   "execution_count": 1,
   "source": [
    "!compile.bat;"
   ],
   "outputs": [
    {
     "output_type": "stream",
     "name": "stdout",
     "text": [
      "\n",
      "d:\\Dev\\MatBench\\test_f2py>call \"C:\\Program Files (x86)\\Intel\\oneAPI\\setvars.bat\" \n",
      ":: initializing oneAPI environment...\n",
      "   initializing Visual Studio command-line environment...\n",
      "   Visual Studio version 16.11.2 environment configured.\n",
      "   Visual Studio environment initialized for: 'x64'\n",
      ":  compiler -- latest\n",
      ":  debugger -- latest\n",
      ":  mkl -- latest\n",
      ":  mpi -- latest\n",
      ":  tbb -- latest\n",
      ":: oneAPI environment initialized ::\n",
      "\"test\"\n",
      "running build\n",
      "running config_cc\n",
      "unifing config_cc, config, build_clib, build_ext, build commands --compiler options\n",
      "running config_fc\n",
      "unifing config_fc, config, build_clib, build_ext, build commands --fcompiler options\n",
      "running build_src\n",
      "build_src\n",
      "building extension \"fib1\" sources\n",
      "f2py options: []\n",
      "f2py:> C:\\Users\\tmp8\\AppData\\Local\\Temp\\tmpdyxvqiyn\\src.win-amd64-3.9\\fib1module.c\n",
      "creating C:\\Users\\tmp8\\AppData\\Local\\Temp\\tmpdyxvqiyn\\src.win-amd64-3.9\n",
      "Reading fortran codes...\n",
      "\tReading file 'fib1.f90' (format:free)\n",
      "Post-processing...\n",
      "\tBlock: fib1\n",
      "\t\t\tBlock: fib\n",
      "Post-processing (stage 2)...\n",
      "Building modules...\n",
      "\tBuilding module \"fib1\"...\n",
      "\t\tConstructing wrapper function \"fib\"...\n",
      "\t\t  fib(a,[n])\n",
      "\tWrote C/API module \"fib1\" to file \"C:\\Users\\tmp8\\AppData\\Local\\Temp\\tmpdyxvqiyn\\src.win-amd64-3.9\\fib1module.c\"\n",
      "  adding 'C:\\Users\\tmp8\\AppData\\Local\\Temp\\tmpdyxvqiyn\\src.win-amd64-3.9\\fortranobject.c' to sources.\n",
      "  adding 'C:\\Users\\tmp8\\AppData\\Local\\Temp\\tmpdyxvqiyn\\src.win-amd64-3.9' to include_dirs.\n",
      "copying C:\\Users\\tmp8\\AppData\\Local\\Programs\\Python\\Python39\\lib\\site-packages\\numpy\\f2py\\src\\fortranobject.c -> C:\\Users\\tmp8\\AppData\\Local\\Temp\\tmpdyxvqiyn\\src.win-amd64-3.9\n",
      "copying C:\\Users\\tmp8\\AppData\\Local\\Programs\\Python\\Python39\\lib\\site-packages\\numpy\\f2py\\src\\fortranobject.h -> C:\\Users\\tmp8\\AppData\\Local\\Temp\\tmpdyxvqiyn\\src.win-amd64-3.9\n",
      "build_src: building npy-pkg config files\n",
      "running build_ext\n",
      "No module named 'numpy.distutils._msvccompiler' in numpy.distutils; trying from distutils\n",
      "customize MSVCCompiler\n",
      "customize MSVCCompiler using build_ext\n",
      "get_default_fcompiler: matching types: '['gnu', 'intelv', 'absoft', 'compaqv', 'intelev', 'gnu95', 'g95', 'intelvem', 'intelem', 'flang']'\n",
      "customize GnuFCompiler\n",
      "Could not locate executable g77\n",
      "Could not locate executable f77\n",
      "customize IntelVisualFCompiler\n",
      "Found executable C:\\Program Files (x86)\\Intel\\oneAPI\\compiler\\latest\\windows\\bin\\intel64\\ifort.exe\n",
      "Could not locate executable C:\\Program\n",
      "customize AbsoftFCompiler\n",
      "Could not locate executable f90\n",
      "customize CompaqVisualFCompiler\n",
      "Could not locate executable DF\n",
      "customize IntelItaniumVisualFCompiler\n",
      "Could not locate executable efl\n",
      "customize Gnu95FCompiler\n",
      "Could not locate executable gfortran\n",
      "Could not locate executable f95\n",
      "customize G95FCompiler\n",
      "Could not locate executable g95\n",
      "customize IntelEM64VisualFCompiler\n",
      "customize IntelEM64VisualFCompiler\n",
      "customize IntelEM64VisualFCompiler using build_ext\n",
      "building 'fib1' extension\n",
      "compiling C sources\n",
      "creating C:\\Users\\tmp8\\AppData\\Local\\Temp\\tmpdyxvqiyn\\Release\\Users\n",
      "creating C:\\Users\\tmp8\\AppData\\Local\\Temp\\tmpdyxvqiyn\\Release\\Users\\tmp8\n",
      "creating C:\\Users\\tmp8\\AppData\\Local\\Temp\\tmpdyxvqiyn\\Release\\Users\\tmp8\\AppData\n",
      "creating C:\\Users\\tmp8\\AppData\\Local\\Temp\\tmpdyxvqiyn\\Release\\Users\\tmp8\\AppData\\Local\n",
      "creating C:\\Users\\tmp8\\AppData\\Local\\Temp\\tmpdyxvqiyn\\Release\\Users\\tmp8\\AppData\\Local\\Temp\n",
      "creating C:\\Users\\tmp8\\AppData\\Local\\Temp\\tmpdyxvqiyn\\Release\\Users\\tmp8\\AppData\\Local\\Temp\\tmpdyxvqiyn\n",
      "creating C:\\Users\\tmp8\\AppData\\Local\\Temp\\tmpdyxvqiyn\\Release\\Users\\tmp8\\AppData\\Local\\Temp\\tmpdyxvqiyn\\src.win-amd64-3.9\n",
      "C:\\Program Files (x86)\\Microsoft Visual Studio\\2019\\Community\\VC\\Tools\\MSVC\\14.29.30133\\bin\\HostX86\\x64\\cl.exe /c /nologo /Ox /W3 /GL /DNDEBUG /MD -DNPY_DISABLE_OPTIMIZATION=1 -IC:\\Users\\tmp8\\AppData\\Local\\Temp\\tmpdyxvqiyn\\src.win-amd64-3.9 -IC:\\Users\\tmp8\\AppData\\Local\\Programs\\Python\\Python39\\lib\\site-packages\\numpy\\core\\include -IC:\\Users\\tmp8\\AppData\\Local\\Programs\\Python\\Python39\\include -IC:\\Users\\tmp8\\AppData\\Local\\Programs\\Python\\Python39\\include -IC:\\Program Files (x86)\\Microsoft Visual Studio\\2019\\Community\\VC\\Tools\\MSVC\\14.29.30133\\ATLMFC\\include -IC:\\Program Files (x86)\\Microsoft Visual Studio\\2019\\Community\\VC\\Tools\\MSVC\\14.29.30133\\include -IC:\\Program Files (x86)\\Windows Kits\\NETFXSDK\\4.8\\include\\um -IC:\\Program Files (x86)\\Windows Kits\\10\\include\\10.0.19041.0\\ucrt -IC:\\Program Files (x86)\\Windows Kits\\10\\include\\10.0.19041.0\\shared -IC:\\Program Files (x86)\\Windows Kits\\10\\include\\10.0.19041.0\\um -IC:\\Program Files (x86)\\Windows Kits\\10\\include\\10.0.19041.0\\winrt -IC:\\Program Files (x86)\\Windows Kits\\10\\include\\10.0.19041.0\\cppwinrt -IC:\\Program Files (x86)\\Intel\\oneAPI\\tbb\\latest\\env\\..\\include -IC:\\Program Files (x86)\\Intel\\oneAPI\\mpi\\latest\\env\\..\\include -IC:\\Program Files (x86)\\Intel\\oneAPI\\mkl\\latest\\include -IC:\\Program Files (x86)\\Intel\\oneAPI\\compiler\\latest\\windows\\include -IC:\\Program Files (x86)\\Intel\\oneAPI\\compiler\\latest\\windows\\compiler\\include -IC:\\Program Files (x86)\\Intel\\oneAPI\\compiler\\latest\\windows\\compiler\\include\\intel64 -IC:\\Program Files (x86)\\Microsoft Visual Studio\\2019\\Community\\VC\\Tools\\MSVC\\14.29.30133\\ATLMFC\\include -IC:\\Program Files (x86)\\Microsoft Visual Studio\\2019\\Community\\VC\\Tools\\MSVC\\14.29.30133\\include -IC:\\Program Files (x86)\\Windows Kits\\NETFXSDK\\4.8\\include\\um -IC:\\Program Files (x86)\\Windows Kits\\10\\include\\10.0.19041.0\\ucrt -IC:\\Program Files (x86)\\Windows Kits\\10\\include\\10.0.19041.0\\shared -IC:\\Program Files (x86)\\Windows Kits\\10\\include\\10.0.19041.0\\um -IC:\\Program Files (x86)\\Windows Kits\\10\\include\\10.0.19041.0\\winrt -IC:\\Program Files (x86)\\Windows Kits\\10\\include\\10.0.19041.0\\cppwinrt /TcC:\\Users\\tmp8\\AppData\\Local\\Temp\\tmpdyxvqiyn\\src.win-amd64-3.9\\fib1module.c /FoC:\\Users\\tmp8\\AppData\\Local\\Temp\\tmpdyxvqiyn\\Release\\Users\\tmp8\\AppData\\Local\\Temp\\tmpdyxvqiyn\\src.win-amd64-3.9\\fib1module.obj\n",
      "C:\\Program Files (x86)\\Microsoft Visual Studio\\2019\\Community\\VC\\Tools\\MSVC\\14.29.30133\\bin\\HostX86\\x64\\cl.exe /c /nologo /Ox /W3 /GL /DNDEBUG /MD -DNPY_DISABLE_OPTIMIZATION=1 -IC:\\Users\\tmp8\\AppData\\Local\\Temp\\tmpdyxvqiyn\\src.win-amd64-3.9 -IC:\\Users\\tmp8\\AppData\\Local\\Programs\\Python\\Python39\\lib\\site-packages\\numpy\\core\\include -IC:\\Users\\tmp8\\AppData\\Local\\Programs\\Python\\Python39\\include -IC:\\Users\\tmp8\\AppData\\Local\\Programs\\Python\\Python39\\include -IC:\\Program Files (x86)\\Microsoft Visual Studio\\2019\\Community\\VC\\Tools\\MSVC\\14.29.30133\\ATLMFC\\include -IC:\\Program Files (x86)\\Microsoft Visual Studio\\2019\\Community\\VC\\Tools\\MSVC\\14.29.30133\\include -IC:\\Program Files (x86)\\Windows Kits\\NETFXSDK\\4.8\\include\\um -IC:\\Program Files (x86)\\Windows Kits\\10\\include\\10.0.19041.0\\ucrt -IC:\\Program Files (x86)\\Windows Kits\\10\\include\\10.0.19041.0\\shared -IC:\\Program Files (x86)\\Windows Kits\\10\\include\\10.0.19041.0\\um -IC:\\Program Files (x86)\\Windows Kits\\10\\include\\10.0.19041.0\\winrt -IC:\\Program Files (x86)\\Windows Kits\\10\\include\\10.0.19041.0\\cppwinrt -IC:\\Program Files (x86)\\Intel\\oneAPI\\tbb\\latest\\env\\..\\include -IC:\\Program Files (x86)\\Intel\\oneAPI\\mpi\\latest\\env\\..\\include -IC:\\Program Files (x86)\\Intel\\oneAPI\\mkl\\latest\\include -IC:\\Program Files (x86)\\Intel\\oneAPI\\compiler\\latest\\windows\\include -IC:\\Program Files (x86)\\Intel\\oneAPI\\compiler\\latest\\windows\\compiler\\include -IC:\\Program Files (x86)\\Intel\\oneAPI\\compiler\\latest\\windows\\compiler\\include\\intel64 -IC:\\Program Files (x86)\\Microsoft Visual Studio\\2019\\Community\\VC\\Tools\\MSVC\\14.29.30133\\ATLMFC\\include -IC:\\Program Files (x86)\\Microsoft Visual Studio\\2019\\Community\\VC\\Tools\\MSVC\\14.29.30133\\include -IC:\\Program Files (x86)\\Windows Kits\\NETFXSDK\\4.8\\include\\um -IC:\\Program Files (x86)\\Windows Kits\\10\\include\\10.0.19041.0\\ucrt -IC:\\Program Files (x86)\\Windows Kits\\10\\include\\10.0.19041.0\\shared -IC:\\Program Files (x86)\\Windows Kits\\10\\include\\10.0.19041.0\\um -IC:\\Program Files (x86)\\Windows Kits\\10\\include\\10.0.19041.0\\winrt -IC:\\Program Files (x86)\\Windows Kits\\10\\include\\10.0.19041.0\\cppwinrt /TcC:\\Users\\tmp8\\AppData\\Local\\Temp\\tmpdyxvqiyn\\src.win-amd64-3.9\\fortranobject.c /FoC:\\Users\\tmp8\\AppData\\Local\\Temp\\tmpdyxvqiyn\\Release\\Users\\tmp8\\AppData\\Local\\Temp\\tmpdyxvqiyn\\src.win-amd64-3.9\\fortranobject.obj\n",
      "compiling Fortran sources\n",
      "Fortran f77 compiler: C:\\Program Files (x86)\\Intel\\oneAPI\\compiler\\latest\\windows\\bin\\intel64\\ifort.exe Files (x86)\\Intel\\oneAPI\\compiler\\latest\\windows\\bin\\intel64\\ifort.exe /nologo /MD /nbs /names:lowercase /assume:underscore /O1 /assume:minus0\n",
      "Fortran f90 compiler: C:\\Program Files (x86)\\Intel\\oneAPI\\compiler\\latest\\windows\\bin\\intel64\\ifort.exe Files (x86)\\Intel\\oneAPI\\compiler\\latest\\windows\\bin\\intel64\\ifort.exe /nologo /MD /nbs /names:lowercase /assume:underscore /O1 /assume:minus0\n",
      "Fortran fix compiler: C:\\Program Files (x86)\\Intel\\oneAPI\\compiler\\latest\\windows\\bin\\intel64\\ifort.exe Files (x86)\\Intel\\oneAPI\\compiler\\latest\\windows\\bin\\intel64\\ifort.exe /nologo /MD /nbs /names:lowercase /assume:underscore /O1 /assume:minus0\n",
      "compile options: '-IC:\\Users\\tmp8\\AppData\\Local\\Temp\\tmpdyxvqiyn\\src.win-amd64-3.9 -IC:\\Users\\tmp8\\AppData\\Local\\Programs\\Python\\Python39\\lib\\site-packages\\numpy\\core\\include -IC:\\Users\\tmp8\\AppData\\Local\\Programs\\Python\\Python39\\include -IC:\\Users\\tmp8\\AppData\\Local\\Programs\\Python\\Python39\\include -c'\n",
      "ifort.exe:f90: fib1.f90\n",
      "C:\\Program Files (x86)\\Microsoft Visual Studio\\2019\\Community\\VC\\Tools\\MSVC\\14.29.30133\\bin\\HostX86\\x64\\link.exe /nologo /INCREMENTAL:NO /LTCG /DLL /MANIFEST:EMBED,ID=2 /MANIFESTUAC:NO /LIBPATH:C:\\Users\\tmp8\\AppData\\Local\\Programs\\Python\\Python39\\libs /LIBPATH:C:\\Users\\tmp8\\AppData\\Local\\Programs\\Python\\Python39\\PCbuild\\amd64 /LIBPATH:C:\\Users\\tmp8\\AppData\\Local\\Programs\\Python\\Python39\\libs /LIBPATH:C:\\Users\\tmp8\\AppData\\Local\\Programs\\Python\\Python39\\PCbuild\\amd64 /LIBPATH:C:\\Program Files (x86)\\Microsoft Visual Studio\\2019\\Community\\VC\\Tools\\MSVC\\14.29.30133\\ATLMFC\\lib\\x64 /LIBPATH:C:\\Program Files (x86)\\Microsoft Visual Studio\\2019\\Community\\VC\\Tools\\MSVC\\14.29.30133\\lib\\x64 /LIBPATH:C:\\Program Files (x86)\\Windows Kits\\NETFXSDK\\4.8\\lib\\um\\x64 /LIBPATH:C:\\Program Files (x86)\\Windows Kits\\10\\lib\\10.0.19041.0\\ucrt\\x64 /LIBPATH:C:\\Program Files (x86)\\Windows Kits\\10\\lib\\10.0.19041.0\\um\\x64 /LIBPATH:C:\\Program Files (x86)\\Intel\\oneAPI\\tbb\\latest\\env\\..\\lib\\intel64\\vc_mt /LIBPATH:C:\\Program Files (x86)\\Intel\\oneAPI\\mpi\\latest\\env\\..\\lib\\release /LIBPATH:C:\\Program Files (x86)\\Intel\\oneAPI\\mpi\\latest\\env\\..\\lib /LIBPATH:C:\\Program Files (x86)\\Intel\\oneAPI\\mkl\\latest\\lib\\intel64 /LIBPATH:C:\\Program Files (x86)\\Intel\\oneAPI\\compiler\\latest\\windows\\compiler\\lib /LIBPATH:C:\\Program Files (x86)\\Intel\\oneAPI\\compiler\\latest\\windows\\compiler\\lib\\intel64_win /LIBPATH:C:\\Program Files (x86)\\Intel\\oneAPI\\compiler\\latest\\windows\\lib /LIBPATH:C:\\Program Files (x86)\\Intel\\oneAPI\\compiler\\latest\\windows\\lib\\x64 /LIBPATH:C:\\Program Files (x86)\\Microsoft Visual Studio\\2019\\Community\\VC\\Tools\\MSVC\\14.29.30133\\ATLMFC\\lib\\x64 /LIBPATH:C:\\Program Files (x86)\\Microsoft Visual Studio\\2019\\Community\\VC\\Tools\\MSVC\\14.29.30133\\lib\\x64 /LIBPATH:C:\\Program Files (x86)\\Windows Kits\\NETFXSDK\\4.8\\lib\\um\\x64 /LIBPATH:C:\\Program Files (x86)\\Windows Kits\\10\\lib\\10.0.19041.0\\ucrt\\x64 /LIBPATH:C:\\Program Files (x86)\\Windows Kits\\10\\lib\\10.0.19041.0\\um\\x64 /EXPORT:PyInit_fib1 C:\\Users\\tmp8\\AppData\\Local\\Temp\\tmpdyxvqiyn\\Release\\Users\\tmp8\\AppData\\Local\\Temp\\tmpdyxvqiyn\\src.win-amd64-3.9\\fib1module.obj C:\\Users\\tmp8\\AppData\\Local\\Temp\\tmpdyxvqiyn\\Release\\Users\\tmp8\\AppData\\Local\\Temp\\tmpdyxvqiyn\\src.win-amd64-3.9\\fortranobject.obj C:\\Users\\tmp8\\AppData\\Local\\Temp\\tmpdyxvqiyn\\Release\\fib1.o /OUT:.\\fib1.cp39-win_amd64.pyd /IMPLIB:C:\\Users\\tmp8\\AppData\\Local\\Temp\\tmpdyxvqiyn\\Release\\Users\\tmp8\\AppData\\Local\\Temp\\tmpdyxvqiyn\\src.win-amd64-3.9\\fib1.cp39-win_amd64.lib\n",
      "Removing build directory C:\\Users\\tmp8\\AppData\\Local\\Temp\\tmpdyxvqiyn\n"
     ]
    },
    {
     "output_type": "stream",
     "name": "stderr",
     "text": [
      "ifort: command line warning #10161: unrecognized source type 'Files'; object file assumed\n",
      "ifort: command line warning #10161: unrecognized source type '(x86)\\Intel\\oneAPI\\compiler\\latest\\windows\\bin\\intel64\\ifort.exe'; object file assumed\n",
      "ifort: command line warning #10006: ignoring unknown option '/c '\n",
      "ifort: warning #10145: no action performed for file 'Files'\n",
      "ifort: warning #10145: no action performed for file '(x86)\\Intel\\oneAPI\\compiler\\latest\\windows\\bin\\intel64\\ifort.exe'\n"
     ]
    }
   ],
   "metadata": {}
  },
  {
   "cell_type": "code",
   "execution_count": 2,
   "source": [
    "import numpy"
   ],
   "outputs": [],
   "metadata": {}
  },
  {
   "cell_type": "code",
   "execution_count": 4,
   "source": [
    "import fib1"
   ],
   "outputs": [],
   "metadata": {}
  },
  {
   "cell_type": "code",
   "execution_count": 5,
   "source": [
    "print(fib1.fib.__doc__)"
   ],
   "outputs": [
    {
     "output_type": "stream",
     "name": "stdout",
     "text": [
      "fib(a,[n])\n",
      "\n",
      "Wrapper for ``fib``.\n",
      "\n",
      "Parameters\n",
      "----------\n",
      "a : input rank-1 array('d') with bounds (n)\n",
      "\n",
      "Other Parameters\n",
      "----------------\n",
      "n : input int, optional\n",
      "    Default: len(a)\n",
      "\n"
     ]
    }
   ],
   "metadata": {}
  },
  {
   "cell_type": "code",
   "execution_count": 6,
   "source": [
    "a = numpy.zeros(14, 'd')\r\n",
    "fib1.fib(a)\r\n",
    "print(a)"
   ],
   "outputs": [
    {
     "output_type": "stream",
     "name": "stdout",
     "text": [
      "[ 0.5  0.1  0.6  0.7  1.3  2.   3.3  5.3  8.6 13.9 22.5 36.4 58.9 95.3]\n"
     ]
    }
   ],
   "metadata": {}
  }
 ],
 "metadata": {
  "orig_nbformat": 4,
  "language_info": {
   "name": "python",
   "version": "3.9.6",
   "mimetype": "text/x-python",
   "codemirror_mode": {
    "name": "ipython",
    "version": 3
   },
   "pygments_lexer": "ipython3",
   "nbconvert_exporter": "python",
   "file_extension": ".py"
  },
  "kernelspec": {
   "name": "python3",
   "display_name": "Python 3.9.6 64-bit"
  },
  "interpreter": {
   "hash": "fd53f8c249623291e63135bef822915949e3f3335e4dc0876e850453ff060a17"
  }
 },
 "nbformat": 4,
 "nbformat_minor": 2
}